{
 "cells": [
  {
   "cell_type": "markdown",
   "id": "3788f5dd-abfa-4ad9-8416-472c73bc2f73",
   "metadata": {},
   "source": [
    "## Mean Squared Error"
   ]
  },
  {
   "cell_type": "markdown",
   "id": "f3e8632d-f7e6-4dc7-b5b9-87d648dfb66c",
   "metadata": {},
   "source": [
    "### Mean Squared Error (MSE) is a common metric used to evaluate the performance of a regression model. It quantifies the average squared difference between the actual values (y) and the predicted values (ŷ).\n",
    "\n",
    "### Formula:\n",
    "\n",
    "### MSE = (1/n) * Σ(yi - ŷi)^2\n",
    "### where:\n",
    "\n",
    "### n is the number of data points\n",
    "### yi is the actual value\n",
    "### ŷi is the predicted value\n",
    "### Interpretation:\n",
    "\n",
    "### A lower MSE indicates that the model's predictions are closer to the actual values, suggesting better performance.\n",
    "### A higher MSE implies that the model's predictions are further away from the actual values, indicating poorer performance.\n",
    "\n",
    "### DOES NOT WORK WITH OUTLIER"
   ]
  },
  {
   "cell_type": "code",
   "execution_count": null,
   "id": "8dc5f12a-8ef5-494e-9678-2d5643c37371",
   "metadata": {},
   "outputs": [],
   "source": []
  },
  {
   "cell_type": "markdown",
   "id": "9721a1d6-02a6-47cd-8df7-be7b8d9ca13f",
   "metadata": {},
   "source": [
    "\n",
    "# Mean Absolute Error (MAE)\n",
    "\n",
    "### Definition:\n",
    "\n",
    "### MAE measures the average absolute difference between the actual values and the predicted values. It calculates the absolute difference between each data point and its corresponding prediction, then averages these differences.\n",
    "\n",
    "### Formula:\n",
    "\n",
    "### MAE = (1/n) * Σ|yi - ŷi|\n",
    "### where:\n",
    "\n",
    "### n is the number of data points\n",
    "### yi is the actual value\n",
    "### ŷi is the predicted value\n",
    "### Interpretation:\n",
    "\n",
    "### A lower MAE indicates better model performance, as the average absolute error is smaller.\n",
    "### A higher MAE suggests that the model's predictions are further away from the actual values on average.\n",
    "\n",
    "###  WORK WELL WITH OUTLIER"
   ]
  },
  {
   "cell_type": "code",
   "execution_count": null,
   "id": "abdd0886-52be-4daf-90d4-37c202e7db01",
   "metadata": {},
   "outputs": [],
   "source": []
  }
 ],
 "metadata": {
  "kernelspec": {
   "display_name": "Python 3 (ipykernel)",
   "language": "python",
   "name": "python3"
  },
  "language_info": {
   "codemirror_mode": {
    "name": "ipython",
    "version": 3
   },
   "file_extension": ".py",
   "mimetype": "text/x-python",
   "name": "python",
   "nbconvert_exporter": "python",
   "pygments_lexer": "ipython3",
   "version": "3.12.7"
  }
 },
 "nbformat": 4,
 "nbformat_minor": 5
}
